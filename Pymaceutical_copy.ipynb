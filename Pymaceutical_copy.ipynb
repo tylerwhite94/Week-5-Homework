# Dependencies and Setup
import matplotlib.pyplot as plt
import pandas as pd
import scipy.stats as st

# Study data files
mouse_metadata_path = "data/Mouse_metadata.csv"
study_results_path = "data/Study_results.csv"

# Read the mouse data and the study results
mouse_metadata = pd.read_csv(mouse_metadata_path)
study_results = pd.read_csv(study_results_path)

# Combine the data into a single DataFrame
metadata_and_results = pd.merge(study_results, mouse_metadata, how='left', on="Mouse ID")

# Display the data table for preview
metadata_and_results.head()

# Checking the number of mice.
mice_id_count = len(metadata_and_results["Mouse ID"].unique())
mice_id_count

# Our data should be uniquely identified by Mouse ID and Timepoint
# Get the duplicate mice by ID number that shows up for Mouse ID and Timepoint. 
duplicate_mice = metadata_and_results[metadata_and_results.duplicated(['Mouse ID', 'Timepoint'])]
duplicate_mice

# Optional: Get all the data for the duplicate mouse ID. 
all_duplicate_mice = metadata_and_results[metadata_and_results.duplicated(['Mouse ID'])]
all_duplicate_mice

# Create a clean DataFrame by dropping the duplicate mouse by its ID.
clean_df = metadata_and_results[metadata_and_results['Mouse ID'] != 'g989']
clean_df.head()

# Checking the number of mice in the clean DataFrame.
new_mice_count = len(clean_df["Mouse ID"].unique())
new_mice_count

# Generate a summary statistics table of mean, median, variance, standard deviation, and SEM of the tumor volume for each regimen

# Use groupby and summary statistical methods to calculate the following properties of each drug regimen: 
# mean, median, variance, standard deviation, and SEM of the tumor volume. 
# Assemble the resulting series into a single summary DataFrame.

mean = metadata_and_results.groupby('Drug Regimen')['Tumor Volume (mm3)'].mean()
median = metadata_and_results.groupby('Drug Regimen')['Tumor Volume (mm3)'].median()
variance = metadata_and_results.groupby('Drug Regimen')['Tumor Volume (mm3)'].var()
standard_dv = metadata_and_results.groupby('Drug Regimen')['Tumor Volume (mm3)'].std()
SEM = metadata_and_results.groupby('Drug Regimen')['Tumor Volume (mm3)'].sem()

stats_summary_df = pd.DataFrame({"Mean Tumor Volume": mean,
                                    "Median Tumor Volume": median,
                                    "Tumor Volume Variance": variance,
                                    "Tumor Volume Std. Dev.": standard_dv,
                                    "Tumor Volume Std. Err.": SEM})
stats_summary_df

# A more advanced method to generate a summary statistics table of mean, median, variance, standard deviation,
# and SEM of the tumor volume for each regimen (only one method is required in the solution)

# Using the aggregation method, produce the same summary statistics in a single line
new_summary_stats = metadata_and_results.groupby('Drug Regimen').agg({'Tumor Volume (mm3)': ['mean', 'median', 'var', 'std', 'sem']})
new_summary_stats

# Generate a bar plot showing the total number of rows (Mouse ID/Timepoints) for each drug regimen using Pandas.
drugs_df = metadata_and_results["Drug Regimen"].value_counts()

drugs_df.plot(kind="bar", legend=False, rot=50)

plt.title("Drug Treatment Count")
plt.xlabel("Drug Regimen")
plt.ylabel("# of Observed Mouse Timepoints")
plt.show()
plt.tight_layout()
plt.savefig('barplot1')

# Generate a bar plot showing the total number of rows (Mouse ID/Timepoints) for each drug regimen using pyplot.
drug_count = clean_df.groupby("Drug Regimen")["Mouse ID"].count()
drug_count_desc = drug_count.sort_values(ascending=False)
drug_count_desc.plot(kind='bar')

plt.title("Drug Treatment Count")
plt.xlabel("Drug Regimen")
plt.ylabel("# of Observed Mouse Timepoints")
plt.show()

# Generate a pie plot showing the distribution of female versus male mice using Pandas
gender_data = clean_df["Sex"].value_counts()

plt.title("Male to Female Ratio")
gender_data.plot.pie(autopct= "%1.1f%%")
plt.show()

# Generate a pie plot showing the distribution of female versus male mice using pyplot
labels = ['Male', 'Female']
sizes = [49.7999197, 50.200803]
plot = gender_data.plot.pie(y='Total Count', autopct="%1.1f%%")
plt.title('Male vs Female Mouse Distribution')
plt.ylabel('Sex')
plt.show()

# Calculate the final tumor volume of each mouse across four of the treatment regimens:  
# Capomulin, Ramicane, Infubinol, and Ceftamin

# Start by getting the last (greatest) timepoint for each mouse
max_tumor = clean_df.groupby(["Mouse ID"])['Timepoint'].max()
max_tumor = max_tumor.reset_index()

# Merge this group df with the original DataFrame to get the tumor volume at the last timepoint
merged_data = max_tumor.merge(clean_df, on=['Mouse ID', 'Timepoint'], how="left")

# Put treatments into a list for for loop (and later for plot labels)
treatment_list = ["Capomulin", "Ramicane", "Infubinol", "Ceftamin"]

# Create empty list to fill with tumor vol data (for plotting)
tumor_vol_list = []

# Calculate the IQR and quantitatively determine if there are any potential outliers. 
for drug in treatment_list:
    
    # Locate the rows which contain mice on each drug and get the tumor volumes
    final_tumor_vol = merged_data.loc[merged_data["Drug Regimen"] == drug, 'Tumor Volume (mm3)']
    
    # add subset 
    tumor_vol_list.append(final_tumor_vol)
    
    # Determine outliers using upper and lower bounds
    quartiles = final_tumor_vol.quantile([.25,.5,.75])
    lowerq = quartiles[.25]
    upperq = quartiles[.75]
    iqr = upperq-lowerq
    lower_bound = lowerq - (1.5*iqr)
    upper_bound = upperq + (1.5*iqr)
    outliers = final_tumor_vol.loc[(final_tumor_vol < lower_bound) | (final_tumor_vol > upper_bound)]
    print(f"{drug}'s potential outliers: {outliers}")

# Generate a box plot that shows the distrubution of the tumor volume for each treatment group.
orange_out = dict(markerfacecolor='red',markersize=12)
plt.boxplot(tumor_vol_list, labels = treatment_list,flierprops=orange_out)
plt.ylabel('Final Tumor Volume (mm3)')
plt.show()

# Calculate the correlation coefficient and a linear regression model 
# for mouse weight and average observed tumor volume for the entire Capomulin regimen
weight = capomulin_avg_vol["Weight (g)"]
tumor = capomulin_avg_vol ["Average Tumor Volume (mm3)"]
(slope, intercept, rvalue, pvalue, stderr) = st.linregress(weight, tumor)
regress_values = weight * slope + intercept
line_eq = "y = " + str(round(slope,2)) + "x + " + str(round(intercept,2))
plt.scatter(weight, tumor)
plt.ylabel("Average Tumor Volume (mm3)")
plt.xlabel("Weight (g)")
plt.plot(weight, regress_values, "r-")
plt.annotate(line_eq,(5.8, 0.8), fontsize=15, color="red")
plt.show()